{
  "nbformat": 4,
  "nbformat_minor": 0,
  "metadata": {
    "colab": {
      "name": "Baitapsapxep.ipynb",
      "provenance": [],
      "collapsed_sections": [],
      "authorship_tag": "ABX9TyMvxzLCn8JAK7WOlJmFd+E9",
      "include_colab_link": true
    },
    "kernelspec": {
      "name": "python3",
      "display_name": "Python 3"
    },
    "language_info": {
      "name": "python"
    }
  },
  "cells": [
    {
      "cell_type": "markdown",
      "metadata": {
        "id": "view-in-github",
        "colab_type": "text"
      },
      "source": [
        "<a href=\"https://colab.research.google.com/github/Ldkhanhduy/bai-tap/blob/main/Baitapsapxep.ipynb\" target=\"_parent\"><img src=\"https://colab.research.google.com/assets/colab-badge.svg\" alt=\"Open In Colab\"/></a>"
      ]
    },
    {
      "cell_type": "markdown",
      "metadata": {
        "id": "vZXlmhK0EhoN"
      },
      "source": [
        "Bài 1: Viết chương trình nhập vào từ bàn phím một danh sách gồm 10 số nguyên và thực hiện các\n",
        "yêu cầu sau:\n",
        "- Sắp xếp danh sách trên theo chiều tăng dần\n",
        "- In kết quả ra màn hình"
      ]
    },
    {
      "cell_type": "code",
      "metadata": {
        "colab": {
          "base_uri": "https://localhost:8080/"
        },
        "id": "WkA6W1m-EnyE",
        "outputId": "66403c79-a304-4b56-cf6d-2bbd3ff09b2b"
      },
      "source": [
        "danhsach=[]\n",
        "while len(danhsach)<10:\n",
        "  a=int(input(\"Nhap so nguyen (chi nhap so nguyen):\"))\n",
        "  danhsach.append(a)\n",
        "for i in range(len(danhsach)):\n",
        "  min=i\n",
        "  for j in range(i+1, len(danhsach)):\n",
        "    if danhsach[min]>danhsach[j]:\n",
        "      min=j\n",
        "  tam=danhsach[i]\n",
        "  danhsach[i]=danhsach[min]\n",
        "  danhsach[min]=tam\n",
        "print(danhsach)"
      ],
      "execution_count": null,
      "outputs": [
        {
          "output_type": "stream",
          "name": "stdout",
          "text": [
            "Nhap so nguyen (chi nhap so nguyen):9\n",
            "Nhap so nguyen (chi nhap so nguyen):1\n",
            "Nhap so nguyen (chi nhap so nguyen):0\n",
            "Nhap so nguyen (chi nhap so nguyen):2\n",
            "Nhap so nguyen (chi nhap so nguyen):3\n",
            "Nhap so nguyen (chi nhap so nguyen):7\n",
            "Nhap so nguyen (chi nhap so nguyen):6\n",
            "Nhap so nguyen (chi nhap so nguyen):4\n",
            "Nhap so nguyen (chi nhap so nguyen):5\n",
            "Nhap so nguyen (chi nhap so nguyen):6\n",
            "[0, 1, 2, 3, 4, 5, 6, 6, 7, 9]\n"
          ]
        }
      ]
    },
    {
      "cell_type": "markdown",
      "metadata": {
        "id": "5_z07WzuRvIu"
      },
      "source": [
        "Bài 2: Viết chương trình thực hiện các yêu cầu sau:\n",
        "- Xây dựng hàm có tên nhap_danh_sach_so_nguyen(n), trong đó:\n",
        "- Tham số đầu vào n là số phần tử của danh sách;\n",
        "- Hàm này trả về một danh sách gồm n số nguyên được nhập vào từ bàn phím\n",
        "- Xây dựng hàm có tên sap_xep_danh_sach(x), trong đó:\n",
        "- Tham số đầu vào x là một danh sách các số nguyên\n",
        "- Hàm này trả về một danh sách các số nguyên được sắp xếp theo chiều tăng dần\n",
        "- Chương trình chính (__main__) gọi thực thi 2 hàm nêu trên và in kết quả sắp xếp ra màn\n",
        "hình."
      ]
    },
    {
      "cell_type": "code",
      "metadata": {
        "id": "48IxX21KRzvz"
      },
      "source": [
        "def nhap_danh_sach_so_nguyen(n):\n",
        "  a=[]\n",
        "  while len(a)<n:\n",
        "    i=int(input(\"Nhap so nguyen (chi so nguyen): \"))\n",
        "    a.append(i)\n",
        "  print(\"a=\",a)\n",
        "  print(type(a))\n",
        "\n",
        "def sap_xep_danh_sach(x):\n",
        "  for i in range(len(x)):\n",
        "    min=i\n",
        "    for j in range(i+1, len(x)):\n",
        "      if x[min]>x[j]:\n",
        "        min=j\n",
        "    tam=x[i]\n",
        "    x[i]=x[min]\n",
        "    x[min]=tam\n",
        "  print(x)"
      ],
      "execution_count": null,
      "outputs": []
    },
    {
      "cell_type": "code",
      "metadata": {
        "colab": {
          "base_uri": "https://localhost:8080/"
        },
        "id": "ddE9ppfDT99X",
        "outputId": "62eaabc9-6c7c-45c4-cef1-7655fcfba89b"
      },
      "source": [
        "nhap_danh_sach_so_nguyen(5)"
      ],
      "execution_count": null,
      "outputs": [
        {
          "output_type": "stream",
          "name": "stdout",
          "text": [
            "Nhap so nguyen (chi so nguyen): 23\n",
            "Nhap so nguyen (chi so nguyen): 52\n",
            "Nhap so nguyen (chi so nguyen): 12\n",
            "Nhap so nguyen (chi so nguyen): 63\n",
            "Nhap so nguyen (chi so nguyen): 54\n",
            "a= [23, 52, 12, 63, 54]\n",
            "<class 'list'>\n"
          ]
        }
      ]
    },
    {
      "cell_type": "code",
      "metadata": {
        "colab": {
          "base_uri": "https://localhost:8080/"
        },
        "id": "3v-pcFACVZRP",
        "outputId": "dcdb565e-2622-4f65-f3a5-2907b17946c8"
      },
      "source": [
        "sap_xep_danh_sach([23,52,12,63,73,34])"
      ],
      "execution_count": null,
      "outputs": [
        {
          "output_type": "stream",
          "name": "stdout",
          "text": [
            "[12, 23, 34, 52, 63, 73]\n"
          ]
        }
      ]
    },
    {
      "cell_type": "markdown",
      "metadata": {
        "id": "edfIsgqncVLp"
      },
      "source": [
        "Bài 3: Viết chương trình nhập vào từ bàn phím một danh sách các số thực, theo các yeu cầu sau:\n",
        "- Sau khi nhập mỗi số thực từ bàn phím, chương trình hỏi người dùng có muốn tiếp tục nhập\n",
        "không. Nếu người dùng gõ ký tự n hoặc N thì kết thúc quá trình nhập;\n",
        "- Sắp xếp danh sách các số thực tren theo chiều giảm dần;\n",
        "- In kết quả ra màn hình."
      ]
    },
    {
      "cell_type": "code",
      "metadata": {
        "colab": {
          "base_uri": "https://localhost:8080/"
        },
        "id": "VetQHyctcWLn",
        "outputId": "3427e8e2-2a6d-4868-8e31-ada800f08711"
      },
      "source": [
        "a=[]\n",
        "i3=float(input(\"nhap so thuc: \"))\n",
        "a.append(i3)\n",
        "n=input(\"Co muon nhap tiep hay khong? \")\n",
        "while (n!=\"n\"):\n",
        "  i3=float(input(\"Nhap tiep nao: \"))\n",
        "  a.append(i3)\n",
        "  n=input(\"Co muon nhap tiep hay khong? \")\n",
        "else: print(\"a=\", a)\n",
        "for i in range(len(a)):\n",
        "  min=i\n",
        "  for j in range(i+1, len(a)):\n",
        "    if a[min]>a[j]:\n",
        "      min=j\n",
        "  tam=a[i]\n",
        "  a[i]=a[min]\n",
        "  a[min]=tam\n",
        "print(\"sau khi sap xep, a=\", a)"
      ],
      "execution_count": null,
      "outputs": [
        {
          "output_type": "stream",
          "name": "stdout",
          "text": [
            "nhap so thuc: 2.3\n",
            "Co muon nhap tiep hay khong? t\n",
            "Nhap tiep nao: 43.2\n",
            "Co muon nhap tiep hay khong? t\n",
            "Nhap tiep nao: 12\n",
            "Co muon nhap tiep hay khong? t\n",
            "Nhap tiep nao: 23.1\n",
            "Co muon nhap tiep hay khong? t\n",
            "Nhap tiep nao: 2.3\n",
            "Co muon nhap tiep hay khong? t\n",
            "Nhap tiep nao: 65.52\n",
            "Co muon nhap tiep hay khong? n\n",
            "a= [2.3, 43.2, 12.0, 23.1, 2.3, 65.52]\n",
            "sau khi sap xep, a= [2.3, 2.3, 12.0, 23.1, 43.2, 65.52]\n"
          ]
        }
      ]
    },
    {
      "cell_type": "markdown",
      "metadata": {
        "id": "OBX7Jy6EjeHk"
      },
      "source": [
        "Bài 4: Viết chương trình thực hiện các yêu cầu sau:\n",
        "- Xây dựng hàm nhap_danh_sach_so_thuc( ) thỏa mãn các yêu cầu sau:\n",
        "- Sau khi nhập mỗi số thực từ bàn phím, chương trình hỏi người dùng có muốn tiếp\n",
        "tục nhập không. Nếu người dùng gõ ký tự n hoặc N thì kết thúc quá trình nhập;\n",
        "- Hàm trả về danh sách các số thực đã nhập.\n",
        "- Xây dựng hàm sap_xep_danh_sach_so_thuc(x), với:\n",
        "- Tham số đầu vào x là một danh sách các số thực;\n",
        "- Hàm này trả về một danh sách các số thực được sắp xếp theo chiều giảm dần\n",
        "\n",
        "- Chương trình chính (__main__) gọi thực thi 2 hàm nêu trên và in kết quả sắp xếp ra màn\n",
        "hình."
      ]
    },
    {
      "cell_type": "code",
      "metadata": {
        "id": "FtNzr_OEjlTY"
      },
      "source": [
        "def nhap_danh_sach_so_thuc():\n",
        "  a=[]\n",
        "  i3=float(input(\"nhap so thuc: \"))\n",
        "  a.append(i3)\n",
        "  n=input(\"Co muon nhap tiep hay khong? \")\n",
        "  while (n!=\"n\"):\n",
        "    i3=float(input(\"Nhap tiep nao: \"))\n",
        "    a.append(i3)\n",
        "    n=input(\"Co muon nhap tiep hay khong? \")\n",
        "  else: print(\"a=\", a) \n",
        "\n",
        "def sap_xep_danh_sach_so_thuc(x):\n",
        "  for i in range(len(x)):\n",
        "    min=i\n",
        "    for j in range(i+1, len(x)):\n",
        "      if x[min]>x[j]:\n",
        "        min=j\n",
        "    tam=x[i]\n",
        "    x[i]=x[min]\n",
        "    x[min]=tam\n",
        "  print(x)"
      ],
      "execution_count": null,
      "outputs": []
    },
    {
      "cell_type": "code",
      "metadata": {
        "colab": {
          "base_uri": "https://localhost:8080/"
        },
        "id": "5DGUQUpKl1sC",
        "outputId": "e88e3e9f-43e8-4de5-92c9-644892ad3782"
      },
      "source": [
        "nhap_danh_sach_so_thuc()"
      ],
      "execution_count": null,
      "outputs": [
        {
          "output_type": "stream",
          "name": "stdout",
          "text": [
            "nhap so thuc: 23\n",
            "Co muon nhap tiep hay khong? t\n",
            "Nhap tiep nao: 23.5\n",
            "Co muon nhap tiep hay khong? t\n",
            "Nhap tiep nao: 75\n",
            "Co muon nhap tiep hay khong? y\n",
            "Nhap tiep nao: 17.2\n",
            "Co muon nhap tiep hay khong? n\n",
            "a= [23.0, 23.5, 75.0, 17.2]\n"
          ]
        }
      ]
    },
    {
      "cell_type": "code",
      "metadata": {
        "colab": {
          "base_uri": "https://localhost:8080/"
        },
        "id": "VbfmX0Xrl1-F",
        "outputId": "cced387b-0d69-4157-f1bf-e24b8f37f73e"
      },
      "source": [
        "sap_xep_danh_sach_so_thuc([76.2, 54, 23.5, 7, 4.75, 34.2])"
      ],
      "execution_count": null,
      "outputs": [
        {
          "output_type": "stream",
          "name": "stdout",
          "text": [
            "[4.75, 7, 23.5, 34.2, 54, 76.2]\n"
          ]
        }
      ]
    },
    {
      "cell_type": "markdown",
      "metadata": {
        "id": "E407QQskmO4b"
      },
      "source": [
        "Bài 5: Viết chương trình thực hiện các yêu cầu sau:\n",
        "- Sinh ngẫu nhiên 1 danh sách số nguyên gồm n phần tử. Trong đó, n được nhập vào từ bàn\n",
        "phím và số nguyên sinh ra nằm trong khoảng từ 0 đến max_value. Giá trị max_value được\n",
        "nhập vào từ bàn phím;\n",
        "- Hỏi người dùng lựa chọn sắp xếp danh sách trên theo chiều tăng dần hay giảm dần và sắp\n",
        "xếp danh sách theo lựa chọn của người dùng;\n",
        "- In kết quả sắp xếp ra màn hình."
      ]
    },
    {
      "cell_type": "code",
      "metadata": {
        "colab": {
          "base_uri": "https://localhost:8080/"
        },
        "id": "mfMw1zOqmSc4",
        "outputId": "a6f13625-95af-4b6c-8748-7d9ba0886320"
      },
      "source": [
        "import random\n",
        "a5=[]\n",
        "n=int(input(\"Nhap so phan tu: \"))\n",
        "while n<=1:\n",
        "  n=int(\"So phan tu phai la so nguyen. Vui long nhap lai: \")\n",
        "else:\n",
        "  max=int(input(\"Nhap gia tri cuoi: \"))\n",
        "  while max<1:\n",
        "    max=float(input(\"Vui long nhap so lon hon 0: \"))\n",
        "  else:\n",
        "    i=random.choices(range(0, max), k=n)\n",
        "    for u in i:\n",
        "      a5.append(u)\n",
        "print(\"a=\", a5)\n",
        "chonkieu=input(\"Chon 'tang' neu sap xep theo thu tu tang dan, 'giam' neu theo thu tu giam dan: \")\n",
        "if chonkieu==\"tang\":\n",
        "  for i in range(len(a5)):\n",
        "    min=i\n",
        "    for j in range(i+1, len(a5)):\n",
        "      if a5[min]>a5[j]:\n",
        "        min=j\n",
        "    tam=a5[i]\n",
        "    a5[i]=a5[min]\n",
        "    a5[min]=tam\n",
        "  print(\"theo thu tu tang dan:\", a5)\n",
        "if chonkieu==\"giam\":\n",
        "  for i in range(len(a5)):\n",
        "    max=i\n",
        "    for j in range(i+1, len(a5)):\n",
        "      if a5[max]<a5[j]:\n",
        "        max=j\n",
        "    tam=a5[i]\n",
        "    a5[i]=a5[max]\n",
        "    a5[max]=tam\n",
        "  print(\"theo thu tu giam dan:\", a5)"
      ],
      "execution_count": 4,
      "outputs": [
        {
          "output_type": "stream",
          "name": "stdout",
          "text": [
            "Nhap so phan tu: 14\n",
            "Nhap gia tri cuoi: 200\n",
            "a= [177, 100, 155, 65, 150, 160, 49, 109, 142, 188, 18, 95, 41, 193]\n",
            "Chon 'tang' neu sap xep theo thu tu tang dan, 'giam' neu theo thu tu giam dan: giam\n",
            "theo thu tu giam dan: [193, 188, 177, 160, 155, 150, 142, 109, 100, 95, 65, 49, 41, 18]\n"
          ]
        }
      ]
    },
    {
      "cell_type": "markdown",
      "metadata": {
        "id": "s5ZR2Rct0C89"
      },
      "source": [
        "Bài 6: Viết chương trình thực hiện các yêu cầu sau:\n",
        "- Xây dựng hàm sinh_ngau_nhien_danh_sach_so_nguyen( ), thực hiện các thao tác sau:\n",
        "o Sinh ngẫu nhiên 1 danh sách số nguyên gồm n phần tử;\n",
        "o Trong đó, n được nhập vào từ bàn phím và số nguyên sinh ra nằm trong khoảng từ\n",
        "0 đến max_value;\n",
        "o Giá trị max_value được nhập vào từ bàn phím;\n",
        "o Hàm này trả về danh sách các số nguyên được sinh ngẫu nhiên ở trên.\n",
        "- Xây dựng hàm sap_xep_giam_dan(x), trong đó:\n",
        "o Tham số đầu vào x là một danh sách các số nguyên;\n",
        "o Hàm này trả về một danh sách các số nguyên được sắp xếp theo chiều giảm dần.\n",
        "- Xây dựng hàm sap_xep_tang_dan(x), trong đó:\n",
        "o Tham số đầu vào x là một danh sách các số nguyên;\n",
        "o Hàm này trả về một danh sách các số nguyên được sắp xếp theo chiều tăng dần.\n",
        "- Chương trình chính (__main__) gọi thực hiện các hàm trên và in kết quả ra màn hình."
      ]
    },
    {
      "cell_type": "code",
      "metadata": {
        "id": "TG7pszhR0EDa"
      },
      "source": [
        "def sinh_ngau_nhien_danh_sach_so_nguyen():\n",
        "  import random\n",
        "  a6=[]\n",
        "  n=int(input(\"Nhap so phan tu: \"))\n",
        "  while n<=1:\n",
        "    n=int(\"So phan tu phai la so nguyen. Vui long nhap lai: \")\n",
        "  else:\n",
        "    max=int(input(\"Nhap gia tri cuoi: \"))\n",
        "    while max<1:\n",
        "      max=float(input(\"Vui long nhap so lon hon 0: \"))\n",
        "    else:\n",
        "      i=random.choices(range(0, max), k=n)\n",
        "      for u in i:\n",
        "        a6.append(u)\n",
        "  print(\"a=\", a6)\n",
        "\n",
        "def sap_xep_tang_dan(a6):\n",
        "  for i in range(len(a6)):\n",
        "    min=i\n",
        "    for j in range(i+1, len(a6)):\n",
        "      if a6[min]>a6[j]:\n",
        "        min=j\n",
        "    tam=a6[i]\n",
        "    a6[i]=a6[min]\n",
        "    a6[min]=tam\n",
        "  print(\"theo thu tu tang dan:\", a6)\n",
        "\n",
        "def sap_xep_giam_dan(a6):\n",
        "  for i in range(len(a6)):\n",
        "    max=i\n",
        "    for j in range(i+1, len(a6)):\n",
        "      if a6[max]<a6[j]:\n",
        "        max=j\n",
        "    tam=a6[i]\n",
        "    a6[i]=a6[max]\n",
        "    a6[max]=tam\n",
        "  print(\"theo thu tu giam dan:\", a6)"
      ],
      "execution_count": 15,
      "outputs": []
    },
    {
      "cell_type": "code",
      "metadata": {
        "colab": {
          "base_uri": "https://localhost:8080/"
        },
        "id": "GCHJbo_F2oEQ",
        "outputId": "5daadd7d-6fb9-4a87-c519-ff90ba96e748"
      },
      "source": [
        "sinh_ngau_nhien_danh_sach_so_nguyen()"
      ],
      "execution_count": 17,
      "outputs": [
        {
          "output_type": "stream",
          "name": "stdout",
          "text": [
            "Nhap so phan tu: 5\n",
            "Nhap gia tri cuoi: 28\n",
            "a= [27, 22, 16, 18, 14]\n"
          ]
        }
      ]
    },
    {
      "cell_type": "code",
      "metadata": {
        "colab": {
          "base_uri": "https://localhost:8080/"
        },
        "id": "sH8jWHr63Dn8",
        "outputId": "a2b042aa-6663-4a58-a864-ac47ad496356"
      },
      "source": [
        "sap_xep_tang_dan([23,5,1,35,6,3])"
      ],
      "execution_count": 18,
      "outputs": [
        {
          "output_type": "stream",
          "name": "stdout",
          "text": [
            "theo thu tu tang dan: [1, 3, 5, 6, 23, 35]\n"
          ]
        }
      ]
    },
    {
      "cell_type": "code",
      "metadata": {
        "colab": {
          "base_uri": "https://localhost:8080/"
        },
        "id": "LMavBgg73DxS",
        "outputId": "60d24a66-67a7-43ad-9093-e51d85d778a1"
      },
      "source": [
        "sap_xep_giam_dan([23,5,57,1,2,3])"
      ],
      "execution_count": 19,
      "outputs": [
        {
          "output_type": "stream",
          "name": "stdout",
          "text": [
            "theo thu tu giam dan: [57, 23, 5, 3, 2, 1]\n"
          ]
        }
      ]
    }
  ]
}