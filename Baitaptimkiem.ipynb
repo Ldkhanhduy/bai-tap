{
  "nbformat": 4,
  "nbformat_minor": 0,
  "metadata": {
    "colab": {
      "name": "Baitaptimkiem.ipynb",
      "provenance": [],
      "authorship_tag": "ABX9TyNVEJAflCJEV9jbc1ZFjDAh",
      "include_colab_link": true
    },
    "kernelspec": {
      "display_name": "Python 3",
      "name": "python3"
    },
    "language_info": {
      "name": "python"
    }
  },
  "cells": [
    {
      "cell_type": "markdown",
      "metadata": {
        "id": "view-in-github",
        "colab_type": "text"
      },
      "source": [
        "<a href=\"https://colab.research.google.com/github/Ldkhanhduy/bai-tap/blob/main/Baitaptimkiem.ipynb\" target=\"_parent\"><img src=\"https://colab.research.google.com/assets/colab-badge.svg\" alt=\"Open In Colab\"/></a>"
      ]
    },
    {
      "cell_type": "markdown",
      "metadata": {
        "id": "cC1BIynd4N8q"
      },
      "source": [
        "Bài 1: Viết chương trình thực hiện các yêu cầu sau:\n",
        "- Sinh ngẫu nhiên 1 danh sách n số nguyên trong đoạn [a, b], với các thông số n, a và b được\n",
        "nhập vào từ bàn phím;\n",
        "- Nhập vào 1 số x từ bàn phím có giá trị trong đoạn [a, b];\n",
        "- Tìm kiếm x có xuất hiện trong danh sách trên hay không. Nếu có thì trả về vị trí xuất hiện\n",
        "đầu tiên trong danh sách. Ngược lại, thông báo không tìm thấy."
      ]
    },
    {
      "cell_type": "code",
      "metadata": {
        "colab": {
          "base_uri": "https://localhost:8080/"
        },
        "id": "QrpORGPb4QIA",
        "outputId": "ea5e4722-8875-4dd4-903a-4c55daeba62d"
      },
      "source": [
        "import random\n",
        "danhsach=[]\n",
        "a=int(input(\"Nhap gia tri dau: \"))\n",
        "b=int(input(\"Nhap gia tri cuoi: \"))\n",
        "while b<a:\n",
        "  b=int(input(\"Gia tri cuoi phai lon hon gia tri dau. Vui long nhap lai: \"))\n",
        "else:\n",
        "  n=int(input(\"So phan tu: \"))\n",
        "  while n<0:\n",
        "    n=int(input(\"So phan tu phai la so duong: \"))\n",
        "  else:\n",
        "    i=random.choices(range(a, b), k=n)\n",
        "    for u in i:\n",
        "      danhsach.append(u)\n",
        "    print(danhsach)\n",
        "    x=int(input(\"Nhap vao tim thu: \"))\n",
        "    if x in danhsach:\n",
        "      while danhsach[0]!=x:\n",
        "        for i in range(len(danhsach)):\n",
        "          if danhsach[i]==x:\n",
        "            tam=danhsach[i]\n",
        "            danhsach[i]=danhsach[i-1]\n",
        "            danhsach[i-1]=tam\n",
        "      print(danhsach)\n",
        "    else:\n",
        "      print(\"Khong tim thay\")"
      ],
      "execution_count": 30,
      "outputs": [
        {
          "output_type": "stream",
          "name": "stdout",
          "text": [
            "Nhap gia tri dau: 1\n",
            "Nhap gia tri cuoi: 8\n",
            "So phan tu: 4\n",
            "[7, 4, 6, 1]\n",
            "Nhap vao tim thu: 1\n",
            "[1, 7, 4, 6]\n"
          ]
        }
      ]
    },
    {
      "cell_type": "markdown",
      "metadata": {
        "id": "DMZGZpYVFxY8"
      },
      "source": [
        "Bài 2: Viết chương trình thực hiện các yêu cầu sau:\n",
        "- Sinh ngẫu nhiên 1 danh sách n số nguyên trong đoạn [a, b], với các thông số n, a và b được\n",
        "nhập vào từ bàn phím;\n",
        "- Nhập vào 1 số x từ bàn phím có giá trị trong đoạn [a, b];\n",
        "- Tìm kiếm x có xuất hiện trong danh sách trên hay không theo yêu cầu sau:\n",
        "o Nếu có thì trả về vị trí xuất hiện đầu tiên trong danh sách và thông báo số bước lặp\n",
        "đã thực hiện để tìm được phần tử này.\n",
        "o Ngược lại, thông báo không tìm thấy."
      ]
    },
    {
      "cell_type": "code",
      "metadata": {
        "colab": {
          "base_uri": "https://localhost:8080/"
        },
        "id": "t9x3RBb_Fx7G",
        "outputId": "2367ccaf-14c6-4933-a6dd-7762ef54396e"
      },
      "source": [
        "import random\n",
        "danhsach2=[]\n",
        "dem=0\n",
        "a2=int(input(\"Nhap gia tri dau: \"))\n",
        "b2=int(input(\"Nhap gia tri cuoi: \"))\n",
        "while b2<a2:\n",
        "  b2=int(input(\"Gia tri cuoi phai lon hon gia tri dau. Vui long nhap lai: \"))\n",
        "else:\n",
        "  n2=int(input(\"So phan tu: \"))\n",
        "  while n2<0:\n",
        "    n2=int(input(\"So phan tu phai la so duong: \"))\n",
        "  else:\n",
        "    i=random.choices(range(a2, b2), k=n2)\n",
        "    for u in i:\n",
        "      danhsach2.append(u)\n",
        "    print(danhsach2)\n",
        "    x2=int(input(\"Nhap vao tim thu: \"))\n",
        "    if x2 in danhsach2:\n",
        "      while danhsach2[0]!=x2:\n",
        "        for i in range(len(danhsach2)):\n",
        "          if danhsach2[i]==x2:\n",
        "            tam=danhsach2[i]\n",
        "            danhsach2[i]=danhsach2[i-1]\n",
        "            danhsach2[i-1]=tam\n",
        "            dem+=1\n",
        "      print(danhsach2)\n",
        "      print(\"trai qua\", dem, \"buoc lap\")\n",
        "    else:\n",
        "      print(\"Khong tim thay\")"
      ],
      "execution_count": 33,
      "outputs": [
        {
          "output_type": "stream",
          "name": "stdout",
          "text": [
            "Nhap gia tri dau: 2\n",
            "Nhap gia tri cuoi: 23\n",
            "So phan tu: 4\n",
            "[11, 10, 2, 10]\n",
            "Nhap vao tim thu: 7\n",
            "Khong tim thay\n"
          ]
        }
      ]
    },
    {
      "cell_type": "markdown",
      "metadata": {
        "id": "R73LxnPROtW_"
      },
      "source": [
        "Bài 3: Viết chương trình thực hiện các yêu cầu sau:\n",
        "- Bước 1: Sinh ngẫu nhiên 1 danh sách n số nguyên trong đoạn [a, b], với các thông số n, a\n",
        "và b được nhập vào từ bàn phím;\n",
        "- Bước 2: Nhập vào 1 số x từ bàn phím có giá trị trong đoạn [a, b];\n",
        "- Bước 3: Sắp xếp danh sách trên theo chiều tăng dần\n",
        "- Bước 4: Tìm kiếm x có xuất hiện trong danh sách trên hay không theo yêu cầu sau:\n",
        "o Nếu có thì trả về vị trí xuất hiện đầu tiên trong danh sách và thông báo số bước lặp\n",
        "đã thực hiện để tìm được phần tử này.\n",
        "o Ngược lại, thông báo không tìm thấy."
      ]
    },
    {
      "cell_type": "code",
      "metadata": {
        "colab": {
          "base_uri": "https://localhost:8080/"
        },
        "id": "KwTEGCyvOuAM",
        "outputId": "4347eeb7-c0a8-45cc-fe92-ef36578521a8"
      },
      "source": [
        "import random\n",
        "danhsach3=[]\n",
        "demm=0\n",
        "a=int(input(\"Nhap gia tri dau: \"))\n",
        "b=int(input(\"Nhap gia tri cuoi: \"))\n",
        "while b<a:\n",
        "  b=int(input(\"Gia tri cuoi phai lon hon gia tri dau. Vui long nhap lai: \"))\n",
        "else:\n",
        "  n=int(input(\"So phan tu: \"))\n",
        "  while n<0:\n",
        "    n=int(input(\"So phan tu phai la so duong: \"))\n",
        "  else:\n",
        "    i=random.choices(range(a, b), k=n)\n",
        "    for u in i:\n",
        "      danhsach3.append(u)\n",
        "    print(\"danhsach3=\",danhsach3)\n",
        "    for i in range(len(danhsach3)):\n",
        "      min=i\n",
        "      for j in range(i+1, len(danhsach3)):\n",
        "        if danhsach3[min]>danhsach3[j]:\n",
        "          min=j\n",
        "      tam=danhsach3[i]\n",
        "      danhsach3[i]=danhsach3[min]\n",
        "      danhsach3[min]=tam\n",
        "    print(\"sau khi sap xep:\",danhsach3)\n",
        "    x=int(input(\"Nhap vao tim thu: \"))\n",
        "    if x in danhsach3:\n",
        "      while danhsach3[0]!=x:\n",
        "        for i in range(len(danhsach3)):\n",
        "          if danhsach3[i]==x:\n",
        "            tam=danhsach3[i]\n",
        "            danhsach3[i]=danhsach3[i-1]\n",
        "            danhsach3[i-1]=tam\n",
        "            demm+=1\n",
        "      print(danhsach3)\n",
        "      print(\"trai qua\", demm, \"buoc lap\")\n",
        "    else:\n",
        "      print(\"Khong tim thay\")"
      ],
      "execution_count": 37,
      "outputs": [
        {
          "output_type": "stream",
          "name": "stdout",
          "text": [
            "Nhap gia tri dau: 2\n",
            "Nhap gia tri cuoi: 2345\n",
            "So phan tu: 10\n",
            "danhsach3= [1031, 2069, 440, 819, 2190, 1408, 1389, 941, 446, 736]\n",
            "sau khi sap xep: [440, 446, 736, 819, 941, 1031, 1389, 1408, 2069, 2190]\n",
            "Nhap vao tim thu: 941\n",
            "[941, 440, 446, 736, 819, 1031, 1389, 1408, 2069, 2190]\n",
            "trai qua 4 buoc lap\n"
          ]
        }
      ]
    },
    {
      "cell_type": "markdown",
      "metadata": {
        "id": "qy1RSSMGQ7bw"
      },
      "source": [
        "Bài 4: Viết chương trình thực hiện các yêu cầu sau:\n",
        "- Bước 1: Sinh ngẫu nhiên 1 danh sách n số nguyên trong đoạn [a, b], với các thông số n, a\n",
        "và b được nhập vào từ bàn phím;\n",
        "- Bước 2: Nhập vào 1 số x từ bàn phím có giá trị trong đoạn [a, b];\n",
        "\n",
        "- Bước 3: Sắp xếp danh sách trên theo chiều tăng dần\n",
        "- Bước 4: Tìm kiếm x có xuất hiện trong danh sách trên hay không theo yêu cầu sau:\n",
        "o Nếu có thì trả về tất cả các vị trí xuất hiện trong danh sách và thông báo số bước\n",
        "lặp đã thực hiện để tìm được các phần tử này.\n",
        "o Ngược lại, thông báo không tìm thấy."
      ]
    },
    {
      "cell_type": "code",
      "metadata": {
        "colab": {
          "base_uri": "https://localhost:8080/"
        },
        "id": "40hUX0hoQ8OH",
        "outputId": "d70db08a-a25c-42c4-8bfd-571001e091e0"
      },
      "source": [
        "import random\n",
        "danhsach4=[]\n",
        "demm=0\n",
        "a=int(input(\"Nhap gia tri dau: \"))\n",
        "b=int(input(\"Nhap gia tri cuoi: \"))\n",
        "while b<a:\n",
        "  b=int(input(\"Gia tri cuoi phai lon hon gia tri dau. Vui long nhap lai: \"))\n",
        "else:\n",
        "  n=int(input(\"So phan tu: \"))\n",
        "  while n<0:\n",
        "    n=int(input(\"So phan tu phai la so duong: \"))\n",
        "  else:\n",
        "    i=random.choices(range(a, b), k=n)\n",
        "    for u in i:\n",
        "      danhsach4.append(u)\n",
        "    print(\"danhsach4=\",danhsach4)\n",
        "    for i in range(len(danhsach4)):\n",
        "      min=i\n",
        "      for j in range(i+1, len(danhsach4)):\n",
        "        if danhsach4[min]>danhsach4[j]:\n",
        "          min=j\n",
        "      tam=danhsach4[i]\n",
        "      danhsach4[i]=danhsach4[min]\n",
        "      danhsach4[min]=tam\n",
        "    print(\"sau khi sap xep:\",danhsach4)\n",
        "    x=int(input(\"Nhap vao tim thu: \"))\n",
        "    if x in danhsach4:\n",
        "      while danhsach4[n-1]!=x:\n",
        "        for i in range(len(danhsach4)):\n",
        "          if danhsach4[i]!=x:\n",
        "            danhsach4[i]=x           \n",
        "            demm+=1\n",
        "      print(danhsach4)\n",
        "      print(\"trai qua\", demm, \"buoc lap\")\n",
        "    else:\n",
        "      print(\"Khong tim thay\")"
      ],
      "execution_count": 42,
      "outputs": [
        {
          "output_type": "stream",
          "name": "stdout",
          "text": [
            "Nhap gia tri dau: 4\n",
            "Nhap gia tri cuoi: 98\n",
            "So phan tu: 6\n",
            "danhsach4= [65, 24, 24, 71, 58, 20]\n",
            "sau khi sap xep: [20, 24, 24, 58, 65, 71]\n",
            "Nhap vao tim thu: 65\n",
            "[65, 65, 65, 65, 65, 65]\n",
            "trai qua 5 buoc lap\n"
          ]
        }
      ]
    }
  ]
}