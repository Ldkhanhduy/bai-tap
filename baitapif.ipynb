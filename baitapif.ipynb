{
  "nbformat": 4,
  "nbformat_minor": 0,
  "metadata": {
    "colab": {
      "name": "baitapif.ipynb",
      "provenance": [],
      "authorship_tag": "ABX9TyNjrvXwW1UZDCsnHrRbicwR",
      "include_colab_link": true
    },
    "kernelspec": {
      "name": "python3",
      "display_name": "Python 3"
    },
    "language_info": {
      "name": "python"
    }
  },
  "cells": [
    {
      "cell_type": "markdown",
      "metadata": {
        "id": "view-in-github",
        "colab_type": "text"
      },
      "source": [
        "<a href=\"https://colab.research.google.com/github/Ldkhanhduy/bai-tap/blob/main/baitapif.ipynb\" target=\"_parent\"><img src=\"https://colab.research.google.com/assets/colab-badge.svg\" alt=\"Open In Colab\"/></a>"
      ]
    },
    {
      "cell_type": "code",
      "metadata": {
        "id": "rzlReCSmKeig"
      },
      "source": [
        "a=float(input(\"a= \"))\n",
        "if (a>=0) and (a<5.0): print(\"Yeu\")\n",
        "if (a>=5.0) and (a<7.0): print(\"Trung binh\")\n",
        "if (a>=7.0) and (a<8.0): print(\"Kha\")\n",
        "if (a>=8.0) and (a<9.0): print(\"Gioi\")\n",
        "if (a>=9.0) and (a<10.0): print(\"Suat xac\")"
      ],
      "execution_count": null,
      "outputs": []
    }
  ]
}